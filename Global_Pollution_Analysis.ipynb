{
  "nbformat": 4,
  "nbformat_minor": 0,
  "metadata": {
    "colab": {
      "name": "Global Pollution Analysis",
      "provenance": [],
      "collapsed_sections": [],
      "authorship_tag": "ABX9TyOo9vAwqfcNwoBWNLf2oMKV",
      "include_colab_link": true
    },
    "kernelspec": {
      "name": "python3",
      "display_name": "Python 3"
    },
    "language_info": {
      "name": "python"
    }
  },
  "cells": [
    {
      "cell_type": "markdown",
      "metadata": {
        "id": "view-in-github",
        "colab_type": "text"
      },
      "source": [
        "<a href=\"https://colab.research.google.com/github/PurraSujay/DataScience-Project/blob/main/Global_Pollution_Analysis.ipynb\" target=\"_parent\"><img src=\"https://colab.research.google.com/assets/colab-badge.svg\" alt=\"Open In Colab\"/></a>"
      ]
    },
    {
      "cell_type": "markdown",
      "metadata": {
        "id": "AR19K_vk2aIr"
      },
      "source": [
        ""
      ]
    },
    {
      "cell_type": "markdown",
      "metadata": {
        "id": "XHB0MLrY2h3G"
      },
      "source": [
        "**Global Plastic Pollution Analysis Project**"
      ]
    },
    {
      "cell_type": "code",
      "metadata": {
        "id": "qXTw9PpH2c59"
      },
      "source": [
        "import numpy as np \n",
        "import pandas as pd \n",
        "import seaborn as sns \n",
        "import warnings\n",
        "import matplotlib.pyplot as plt \n",
        "%matplotlib inline \n",
        "\n",
        "warnings.filterwarnings('ignore')\n",
        "sns.set_style('darkgrid')"
      ],
      "execution_count": 109,
      "outputs": []
    },
    {
      "cell_type": "markdown",
      "metadata": {
        "id": "ssrNkLiC3N55"
      },
      "source": [
        "**Reading Dataset**"
      ]
    },
    {
      "cell_type": "code",
      "metadata": {
        "id": "JrVKz-Q525gI"
      },
      "source": [
        "df = pd.read_csv('per-capita-plastic-waste-vs-gdp-per-capita.csv')"
      ],
      "execution_count": 110,
      "outputs": []
    },
    {
      "cell_type": "code",
      "metadata": {
        "colab": {
          "base_uri": "https://localhost:8080/",
          "height": 223
        },
        "id": "C42hsnKR2_Iy",
        "outputId": "93c192f5-e25f-4876-d20d-ee0dfd5f4705"
      },
      "source": [
        "df.head()"
      ],
      "execution_count": 111,
      "outputs": [
        {
          "output_type": "execute_result",
          "data": {
            "text/html": [
              "<div>\n",
              "<style scoped>\n",
              "    .dataframe tbody tr th:only-of-type {\n",
              "        vertical-align: middle;\n",
              "    }\n",
              "\n",
              "    .dataframe tbody tr th {\n",
              "        vertical-align: top;\n",
              "    }\n",
              "\n",
              "    .dataframe thead th {\n",
              "        text-align: right;\n",
              "    }\n",
              "</style>\n",
              "<table border=\"1\" class=\"dataframe\">\n",
              "  <thead>\n",
              "    <tr style=\"text-align: right;\">\n",
              "      <th></th>\n",
              "      <th>Entity</th>\n",
              "      <th>Code</th>\n",
              "      <th>Year</th>\n",
              "      <th>Per capita plastic waste (kg/person/day)</th>\n",
              "      <th>GDP per capita, PPP (constant 2011 international $)</th>\n",
              "      <th>Total population (Gapminder, HYDE &amp; UN)</th>\n",
              "      <th>Continent</th>\n",
              "    </tr>\n",
              "  </thead>\n",
              "  <tbody>\n",
              "    <tr>\n",
              "      <th>0</th>\n",
              "      <td>Abkhazia</td>\n",
              "      <td>OWID_ABK</td>\n",
              "      <td>2015</td>\n",
              "      <td>NaN</td>\n",
              "      <td>NaN</td>\n",
              "      <td>NaN</td>\n",
              "      <td>Asia</td>\n",
              "    </tr>\n",
              "    <tr>\n",
              "      <th>1</th>\n",
              "      <td>Afghanistan</td>\n",
              "      <td>AFG</td>\n",
              "      <td>2002</td>\n",
              "      <td>NaN</td>\n",
              "      <td>1063.635574</td>\n",
              "      <td>22601000.0</td>\n",
              "      <td>NaN</td>\n",
              "    </tr>\n",
              "    <tr>\n",
              "      <th>2</th>\n",
              "      <td>Afghanistan</td>\n",
              "      <td>AFG</td>\n",
              "      <td>2003</td>\n",
              "      <td>NaN</td>\n",
              "      <td>1099.194507</td>\n",
              "      <td>23681000.0</td>\n",
              "      <td>NaN</td>\n",
              "    </tr>\n",
              "    <tr>\n",
              "      <th>3</th>\n",
              "      <td>Afghanistan</td>\n",
              "      <td>AFG</td>\n",
              "      <td>2004</td>\n",
              "      <td>NaN</td>\n",
              "      <td>1062.249360</td>\n",
              "      <td>24727000.0</td>\n",
              "      <td>NaN</td>\n",
              "    </tr>\n",
              "    <tr>\n",
              "      <th>4</th>\n",
              "      <td>Afghanistan</td>\n",
              "      <td>AFG</td>\n",
              "      <td>2005</td>\n",
              "      <td>NaN</td>\n",
              "      <td>1136.123214</td>\n",
              "      <td>25654000.0</td>\n",
              "      <td>NaN</td>\n",
              "    </tr>\n",
              "  </tbody>\n",
              "</table>\n",
              "</div>"
            ],
            "text/plain": [
              "        Entity      Code  ...  Total population (Gapminder, HYDE & UN)  Continent\n",
              "0     Abkhazia  OWID_ABK  ...                                      NaN       Asia\n",
              "1  Afghanistan       AFG  ...                               22601000.0        NaN\n",
              "2  Afghanistan       AFG  ...                               23681000.0        NaN\n",
              "3  Afghanistan       AFG  ...                               24727000.0        NaN\n",
              "4  Afghanistan       AFG  ...                               25654000.0        NaN\n",
              "\n",
              "[5 rows x 7 columns]"
            ]
          },
          "metadata": {},
          "execution_count": 111
        }
      ]
    },
    {
      "cell_type": "code",
      "metadata": {
        "colab": {
          "base_uri": "https://localhost:8080/"
        },
        "id": "cyD9S3GE3A4r",
        "outputId": "523057dd-58ff-42b1-e6c4-65b74c8818a1"
      },
      "source": [
        "df.shape"
      ],
      "execution_count": 112,
      "outputs": [
        {
          "output_type": "execute_result",
          "data": {
            "text/plain": [
              "(48168, 7)"
            ]
          },
          "metadata": {},
          "execution_count": 112
        }
      ]
    },
    {
      "cell_type": "code",
      "metadata": {
        "colab": {
          "base_uri": "https://localhost:8080/"
        },
        "id": "79npRhFm3VOX",
        "outputId": "8e0e8980-ac0d-4d4d-aa0d-f336b7b6a7ba"
      },
      "source": [
        "#checking null values\n",
        "df.isnull().sum()"
      ],
      "execution_count": 113,
      "outputs": [
        {
          "output_type": "execute_result",
          "data": {
            "text/plain": [
              "Entity                                                     0\n",
              "Code                                                    2014\n",
              "Year                                                       0\n",
              "Per capita plastic waste (kg/person/day)               47982\n",
              "GDP per capita, PPP (constant 2011 international $)    41761\n",
              "Total population (Gapminder, HYDE & UN)                 1285\n",
              "Continent                                              47883\n",
              "dtype: int64"
            ]
          },
          "metadata": {},
          "execution_count": 113
        }
      ]
    },
    {
      "cell_type": "code",
      "metadata": {
        "colab": {
          "base_uri": "https://localhost:8080/"
        },
        "id": "cg84JGcY3amp",
        "outputId": "af94acf6-267c-461c-bb3e-93643673ef9f"
      },
      "source": [
        "''' checking percentage of null values in each column '''\n",
        "for column in df.columns:\n",
        "    print(\"{} has {:.2f}% null values: \".format(column, (df[column].isnull().sum() / len(df)) * 100 ))\n",
        "    print(\"-\" * 100)"
      ],
      "execution_count": 114,
      "outputs": [
        {
          "output_type": "stream",
          "name": "stdout",
          "text": [
            "Entity has 0.00% null values: \n",
            "----------------------------------------------------------------------------------------------------\n",
            "Code has 4.18% null values: \n",
            "----------------------------------------------------------------------------------------------------\n",
            "Year has 0.00% null values: \n",
            "----------------------------------------------------------------------------------------------------\n",
            "Per capita plastic waste (kg/person/day) has 99.61% null values: \n",
            "----------------------------------------------------------------------------------------------------\n",
            "GDP per capita, PPP (constant 2011 international $) has 86.70% null values: \n",
            "----------------------------------------------------------------------------------------------------\n",
            "Total population (Gapminder, HYDE & UN) has 2.67% null values: \n",
            "----------------------------------------------------------------------------------------------------\n",
            "Continent has 99.41% null values: \n",
            "----------------------------------------------------------------------------------------------------\n"
          ]
        }
      ]
    },
    {
      "cell_type": "code",
      "metadata": {
        "colab": {
          "base_uri": "https://localhost:8080/"
        },
        "id": "VfK9Qhd63fyI",
        "outputId": "ef2971ad-3bfe-4cb7-ff41-de873653f1ef"
      },
      "source": [
        "''' checking info of data '''\n",
        "df.info()"
      ],
      "execution_count": 115,
      "outputs": [
        {
          "output_type": "stream",
          "name": "stdout",
          "text": [
            "<class 'pandas.core.frame.DataFrame'>\n",
            "RangeIndex: 48168 entries, 0 to 48167\n",
            "Data columns (total 7 columns):\n",
            " #   Column                                               Non-Null Count  Dtype  \n",
            "---  ------                                               --------------  -----  \n",
            " 0   Entity                                               48168 non-null  object \n",
            " 1   Code                                                 46154 non-null  object \n",
            " 2   Year                                                 48168 non-null  int64  \n",
            " 3   Per capita plastic waste (kg/person/day)             186 non-null    float64\n",
            " 4   GDP per capita, PPP (constant 2011 international $)  6407 non-null   float64\n",
            " 5   Total population (Gapminder, HYDE & UN)              46883 non-null  float64\n",
            " 6   Continent                                            285 non-null    object \n",
            "dtypes: float64(3), int64(1), object(3)\n",
            "memory usage: 2.6+ MB\n"
          ]
        }
      ]
    },
    {
      "cell_type": "code",
      "metadata": {
        "id": "9yKNXpuQ3ljT"
      },
      "source": [
        "''' renaming column names '''\n",
        "df.rename(columns={'GDP per capita, PPP (constant 2011 international $)': 'GDP per capita in PPP', \n",
        "                   'Total population (Gapminder, HYDE & UN)': 'Total Population',\n",
        "                    'Per capita plastic waste (kg/person/day)': 'Waste per person(kg/day)'}, inplace=True)"
      ],
      "execution_count": 116,
      "outputs": []
    },
    {
      "cell_type": "code",
      "metadata": {
        "colab": {
          "base_uri": "https://localhost:8080/",
          "height": 206
        },
        "id": "H7YrBw893sPJ",
        "outputId": "5b5ddd9b-d405-4c7b-a655-18e32641d8b0"
      },
      "source": [
        "df.head()"
      ],
      "execution_count": 117,
      "outputs": [
        {
          "output_type": "execute_result",
          "data": {
            "text/html": [
              "<div>\n",
              "<style scoped>\n",
              "    .dataframe tbody tr th:only-of-type {\n",
              "        vertical-align: middle;\n",
              "    }\n",
              "\n",
              "    .dataframe tbody tr th {\n",
              "        vertical-align: top;\n",
              "    }\n",
              "\n",
              "    .dataframe thead th {\n",
              "        text-align: right;\n",
              "    }\n",
              "</style>\n",
              "<table border=\"1\" class=\"dataframe\">\n",
              "  <thead>\n",
              "    <tr style=\"text-align: right;\">\n",
              "      <th></th>\n",
              "      <th>Entity</th>\n",
              "      <th>Code</th>\n",
              "      <th>Year</th>\n",
              "      <th>Waste per person(kg/day)</th>\n",
              "      <th>GDP per capita in PPP</th>\n",
              "      <th>Total Population</th>\n",
              "      <th>Continent</th>\n",
              "    </tr>\n",
              "  </thead>\n",
              "  <tbody>\n",
              "    <tr>\n",
              "      <th>0</th>\n",
              "      <td>Abkhazia</td>\n",
              "      <td>OWID_ABK</td>\n",
              "      <td>2015</td>\n",
              "      <td>NaN</td>\n",
              "      <td>NaN</td>\n",
              "      <td>NaN</td>\n",
              "      <td>Asia</td>\n",
              "    </tr>\n",
              "    <tr>\n",
              "      <th>1</th>\n",
              "      <td>Afghanistan</td>\n",
              "      <td>AFG</td>\n",
              "      <td>2002</td>\n",
              "      <td>NaN</td>\n",
              "      <td>1063.635574</td>\n",
              "      <td>22601000.0</td>\n",
              "      <td>NaN</td>\n",
              "    </tr>\n",
              "    <tr>\n",
              "      <th>2</th>\n",
              "      <td>Afghanistan</td>\n",
              "      <td>AFG</td>\n",
              "      <td>2003</td>\n",
              "      <td>NaN</td>\n",
              "      <td>1099.194507</td>\n",
              "      <td>23681000.0</td>\n",
              "      <td>NaN</td>\n",
              "    </tr>\n",
              "    <tr>\n",
              "      <th>3</th>\n",
              "      <td>Afghanistan</td>\n",
              "      <td>AFG</td>\n",
              "      <td>2004</td>\n",
              "      <td>NaN</td>\n",
              "      <td>1062.249360</td>\n",
              "      <td>24727000.0</td>\n",
              "      <td>NaN</td>\n",
              "    </tr>\n",
              "    <tr>\n",
              "      <th>4</th>\n",
              "      <td>Afghanistan</td>\n",
              "      <td>AFG</td>\n",
              "      <td>2005</td>\n",
              "      <td>NaN</td>\n",
              "      <td>1136.123214</td>\n",
              "      <td>25654000.0</td>\n",
              "      <td>NaN</td>\n",
              "    </tr>\n",
              "  </tbody>\n",
              "</table>\n",
              "</div>"
            ],
            "text/plain": [
              "        Entity      Code  ...  Total Population  Continent\n",
              "0     Abkhazia  OWID_ABK  ...               NaN       Asia\n",
              "1  Afghanistan       AFG  ...        22601000.0        NaN\n",
              "2  Afghanistan       AFG  ...        23681000.0        NaN\n",
              "3  Afghanistan       AFG  ...        24727000.0        NaN\n",
              "4  Afghanistan       AFG  ...        25654000.0        NaN\n",
              "\n",
              "[5 rows x 7 columns]"
            ]
          },
          "metadata": {},
          "execution_count": 117
        }
      ]
    },
    {
      "cell_type": "code",
      "metadata": {
        "id": "ApKlWkqL3wPd"
      },
      "source": [
        "''' removing entities/countries with incomplete/missing data '''\n",
        "incmp_df_idx = df[(df['Total Population'].isna()) & (df['GDP per capita in PPP'].isna())].index\n",
        "df.drop(incmp_df_idx, inplace=True)"
      ],
      "execution_count": 118,
      "outputs": []
    },
    {
      "cell_type": "code",
      "metadata": {
        "colab": {
          "base_uri": "https://localhost:8080/",
          "height": 206
        },
        "id": "0VRGwTgc32bh",
        "outputId": "8ba4f334-e698-4c07-8c12-1aacc0e59cc2"
      },
      "source": [
        "df.head()"
      ],
      "execution_count": 119,
      "outputs": [
        {
          "output_type": "execute_result",
          "data": {
            "text/html": [
              "<div>\n",
              "<style scoped>\n",
              "    .dataframe tbody tr th:only-of-type {\n",
              "        vertical-align: middle;\n",
              "    }\n",
              "\n",
              "    .dataframe tbody tr th {\n",
              "        vertical-align: top;\n",
              "    }\n",
              "\n",
              "    .dataframe thead th {\n",
              "        text-align: right;\n",
              "    }\n",
              "</style>\n",
              "<table border=\"1\" class=\"dataframe\">\n",
              "  <thead>\n",
              "    <tr style=\"text-align: right;\">\n",
              "      <th></th>\n",
              "      <th>Entity</th>\n",
              "      <th>Code</th>\n",
              "      <th>Year</th>\n",
              "      <th>Waste per person(kg/day)</th>\n",
              "      <th>GDP per capita in PPP</th>\n",
              "      <th>Total Population</th>\n",
              "      <th>Continent</th>\n",
              "    </tr>\n",
              "  </thead>\n",
              "  <tbody>\n",
              "    <tr>\n",
              "      <th>1</th>\n",
              "      <td>Afghanistan</td>\n",
              "      <td>AFG</td>\n",
              "      <td>2002</td>\n",
              "      <td>NaN</td>\n",
              "      <td>1063.635574</td>\n",
              "      <td>22601000.0</td>\n",
              "      <td>NaN</td>\n",
              "    </tr>\n",
              "    <tr>\n",
              "      <th>2</th>\n",
              "      <td>Afghanistan</td>\n",
              "      <td>AFG</td>\n",
              "      <td>2003</td>\n",
              "      <td>NaN</td>\n",
              "      <td>1099.194507</td>\n",
              "      <td>23681000.0</td>\n",
              "      <td>NaN</td>\n",
              "    </tr>\n",
              "    <tr>\n",
              "      <th>3</th>\n",
              "      <td>Afghanistan</td>\n",
              "      <td>AFG</td>\n",
              "      <td>2004</td>\n",
              "      <td>NaN</td>\n",
              "      <td>1062.249360</td>\n",
              "      <td>24727000.0</td>\n",
              "      <td>NaN</td>\n",
              "    </tr>\n",
              "    <tr>\n",
              "      <th>4</th>\n",
              "      <td>Afghanistan</td>\n",
              "      <td>AFG</td>\n",
              "      <td>2005</td>\n",
              "      <td>NaN</td>\n",
              "      <td>1136.123214</td>\n",
              "      <td>25654000.0</td>\n",
              "      <td>NaN</td>\n",
              "    </tr>\n",
              "    <tr>\n",
              "      <th>5</th>\n",
              "      <td>Afghanistan</td>\n",
              "      <td>AFG</td>\n",
              "      <td>2006</td>\n",
              "      <td>NaN</td>\n",
              "      <td>1161.124889</td>\n",
              "      <td>26433000.0</td>\n",
              "      <td>NaN</td>\n",
              "    </tr>\n",
              "  </tbody>\n",
              "</table>\n",
              "</div>"
            ],
            "text/plain": [
              "        Entity Code  Year  ...  GDP per capita in PPP  Total Population  Continent\n",
              "1  Afghanistan  AFG  2002  ...            1063.635574        22601000.0        NaN\n",
              "2  Afghanistan  AFG  2003  ...            1099.194507        23681000.0        NaN\n",
              "3  Afghanistan  AFG  2004  ...            1062.249360        24727000.0        NaN\n",
              "4  Afghanistan  AFG  2005  ...            1136.123214        25654000.0        NaN\n",
              "5  Afghanistan  AFG  2006  ...            1161.124889        26433000.0        NaN\n",
              "\n",
              "[5 rows x 7 columns]"
            ]
          },
          "metadata": {},
          "execution_count": 119
        }
      ]
    },
    {
      "cell_type": "code",
      "metadata": {
        "colab": {
          "base_uri": "https://localhost:8080/"
        },
        "id": "fK8KXBGA3_r3",
        "outputId": "70c7dcf4-d4a0-4b8f-951a-e112d4b99d50"
      },
      "source": [
        "df.shape"
      ],
      "execution_count": 120,
      "outputs": [
        {
          "output_type": "execute_result",
          "data": {
            "text/plain": [
              "(48113, 7)"
            ]
          },
          "metadata": {},
          "execution_count": 120
        }
      ]
    },
    {
      "cell_type": "code",
      "metadata": {
        "id": "hdqKGaxD4A6f"
      },
      "source": [
        "'''retrieving rows in which year == 2010'''\n",
        "df_2010 = df[df['Year'] == 2010]\n",
        "df_2010 = df_2010.drop(columns='Continent')"
      ],
      "execution_count": 121,
      "outputs": []
    },
    {
      "cell_type": "code",
      "metadata": {
        "colab": {
          "base_uri": "https://localhost:8080/",
          "height": 206
        },
        "id": "MANLdH3a4Cla",
        "outputId": "df0574c3-0630-4691-95f5-b7903502f164"
      },
      "source": [
        "df_2010.head()"
      ],
      "execution_count": 122,
      "outputs": [
        {
          "output_type": "execute_result",
          "data": {
            "text/html": [
              "<div>\n",
              "<style scoped>\n",
              "    .dataframe tbody tr th:only-of-type {\n",
              "        vertical-align: middle;\n",
              "    }\n",
              "\n",
              "    .dataframe tbody tr th {\n",
              "        vertical-align: top;\n",
              "    }\n",
              "\n",
              "    .dataframe thead th {\n",
              "        text-align: right;\n",
              "    }\n",
              "</style>\n",
              "<table border=\"1\" class=\"dataframe\">\n",
              "  <thead>\n",
              "    <tr style=\"text-align: right;\">\n",
              "      <th></th>\n",
              "      <th>Entity</th>\n",
              "      <th>Code</th>\n",
              "      <th>Year</th>\n",
              "      <th>Waste per person(kg/day)</th>\n",
              "      <th>GDP per capita in PPP</th>\n",
              "      <th>Total Population</th>\n",
              "    </tr>\n",
              "  </thead>\n",
              "  <tbody>\n",
              "    <tr>\n",
              "      <th>9</th>\n",
              "      <td>Afghanistan</td>\n",
              "      <td>AFG</td>\n",
              "      <td>2010</td>\n",
              "      <td>NaN</td>\n",
              "      <td>1614.255001</td>\n",
              "      <td>2.918600e+07</td>\n",
              "    </tr>\n",
              "    <tr>\n",
              "      <th>333</th>\n",
              "      <td>Africa</td>\n",
              "      <td>NaN</td>\n",
              "      <td>2010</td>\n",
              "      <td>NaN</td>\n",
              "      <td>NaN</td>\n",
              "      <td>1.039304e+09</td>\n",
              "    </tr>\n",
              "    <tr>\n",
              "      <th>344</th>\n",
              "      <td>Albania</td>\n",
              "      <td>ALB</td>\n",
              "      <td>2010</td>\n",
              "      <td>0.069</td>\n",
              "      <td>9927.181841</td>\n",
              "      <td>2.948000e+06</td>\n",
              "    </tr>\n",
              "    <tr>\n",
              "      <th>564</th>\n",
              "      <td>Algeria</td>\n",
              "      <td>DZA</td>\n",
              "      <td>2010</td>\n",
              "      <td>0.144</td>\n",
              "      <td>12870.602699</td>\n",
              "      <td>3.597700e+07</td>\n",
              "    </tr>\n",
              "    <tr>\n",
              "      <th>844</th>\n",
              "      <td>American Samoa</td>\n",
              "      <td>ASM</td>\n",
              "      <td>2010</td>\n",
              "      <td>NaN</td>\n",
              "      <td>NaN</td>\n",
              "      <td>5.600000e+04</td>\n",
              "    </tr>\n",
              "  </tbody>\n",
              "</table>\n",
              "</div>"
            ],
            "text/plain": [
              "             Entity Code  ...  GDP per capita in PPP  Total Population\n",
              "9       Afghanistan  AFG  ...            1614.255001      2.918600e+07\n",
              "333          Africa  NaN  ...                    NaN      1.039304e+09\n",
              "344         Albania  ALB  ...            9927.181841      2.948000e+06\n",
              "564         Algeria  DZA  ...           12870.602699      3.597700e+07\n",
              "844  American Samoa  ASM  ...                    NaN      5.600000e+04\n",
              "\n",
              "[5 rows x 6 columns]"
            ]
          },
          "metadata": {},
          "execution_count": 122
        }
      ]
    },
    {
      "cell_type": "code",
      "metadata": {
        "id": "8jnGui_V4MdW"
      },
      "source": [
        "'''retrieving continent name in which year == 2015'''\n",
        "df_2015 = df[df['Year'] == 2015]\n",
        "df_2010['Continent'] = df_2015['Continent'].values"
      ],
      "execution_count": 123,
      "outputs": []
    },
    {
      "cell_type": "code",
      "metadata": {
        "colab": {
          "base_uri": "https://localhost:8080/",
          "height": 206
        },
        "id": "k-PXTqdE4PMO",
        "outputId": "733f7573-6dfd-4c06-fe00-f6258d21b193"
      },
      "source": [
        "df_2015.head()"
      ],
      "execution_count": 124,
      "outputs": [
        {
          "output_type": "execute_result",
          "data": {
            "text/html": [
              "<div>\n",
              "<style scoped>\n",
              "    .dataframe tbody tr th:only-of-type {\n",
              "        vertical-align: middle;\n",
              "    }\n",
              "\n",
              "    .dataframe tbody tr th {\n",
              "        vertical-align: top;\n",
              "    }\n",
              "\n",
              "    .dataframe thead th {\n",
              "        text-align: right;\n",
              "    }\n",
              "</style>\n",
              "<table border=\"1\" class=\"dataframe\">\n",
              "  <thead>\n",
              "    <tr style=\"text-align: right;\">\n",
              "      <th></th>\n",
              "      <th>Entity</th>\n",
              "      <th>Code</th>\n",
              "      <th>Year</th>\n",
              "      <th>Waste per person(kg/day)</th>\n",
              "      <th>GDP per capita in PPP</th>\n",
              "      <th>Total Population</th>\n",
              "      <th>Continent</th>\n",
              "    </tr>\n",
              "  </thead>\n",
              "  <tbody>\n",
              "    <tr>\n",
              "      <th>14</th>\n",
              "      <td>Afghanistan</td>\n",
              "      <td>AFG</td>\n",
              "      <td>2015</td>\n",
              "      <td>NaN</td>\n",
              "      <td>1809.016488</td>\n",
              "      <td>3.441400e+07</td>\n",
              "      <td>Asia</td>\n",
              "    </tr>\n",
              "    <tr>\n",
              "      <th>338</th>\n",
              "      <td>Africa</td>\n",
              "      <td>NaN</td>\n",
              "      <td>2015</td>\n",
              "      <td>NaN</td>\n",
              "      <td>NaN</td>\n",
              "      <td>1.182439e+09</td>\n",
              "      <td>NaN</td>\n",
              "    </tr>\n",
              "    <tr>\n",
              "      <th>369</th>\n",
              "      <td>Albania</td>\n",
              "      <td>ALB</td>\n",
              "      <td>2015</td>\n",
              "      <td>NaN</td>\n",
              "      <td>10970.452245</td>\n",
              "      <td>2.891000e+06</td>\n",
              "      <td>Europe</td>\n",
              "    </tr>\n",
              "    <tr>\n",
              "      <th>589</th>\n",
              "      <td>Algeria</td>\n",
              "      <td>DZA</td>\n",
              "      <td>2015</td>\n",
              "      <td>NaN</td>\n",
              "      <td>13724.723853</td>\n",
              "      <td>3.972800e+07</td>\n",
              "      <td>Africa</td>\n",
              "    </tr>\n",
              "    <tr>\n",
              "      <th>849</th>\n",
              "      <td>American Samoa</td>\n",
              "      <td>ASM</td>\n",
              "      <td>2015</td>\n",
              "      <td>NaN</td>\n",
              "      <td>NaN</td>\n",
              "      <td>5.600000e+04</td>\n",
              "      <td>Oceania</td>\n",
              "    </tr>\n",
              "  </tbody>\n",
              "</table>\n",
              "</div>"
            ],
            "text/plain": [
              "             Entity Code  ...  Total Population  Continent\n",
              "14      Afghanistan  AFG  ...      3.441400e+07       Asia\n",
              "338          Africa  NaN  ...      1.182439e+09        NaN\n",
              "369         Albania  ALB  ...      2.891000e+06     Europe\n",
              "589         Algeria  DZA  ...      3.972800e+07     Africa\n",
              "849  American Samoa  ASM  ...      5.600000e+04    Oceania\n",
              "\n",
              "[5 rows x 7 columns]"
            ]
          },
          "metadata": {},
          "execution_count": 124
        }
      ]
    },
    {
      "cell_type": "code",
      "metadata": {
        "id": "KRDbvPJ64WNG"
      },
      "source": [
        "'''dropping rows with missing Continent values using index'''\n",
        "missing_idx = df_2010[df_2010['Continent'].isna()].index\n",
        "df_2010.drop(missing_idx, inplace=True)"
      ],
      "execution_count": 125,
      "outputs": []
    },
    {
      "cell_type": "code",
      "metadata": {
        "id": "5h_b8yL54YPi"
      },
      "source": [
        "''' dropping rows with missing per person waste generation values '''\n",
        "df_2010 = df_2010[df_2010['Waste per person(kg/day)'].notna()]\n",
        "wa_g = df_2010.reset_index().drop('index', axis=1)"
      ],
      "execution_count": 126,
      "outputs": []
    },
    {
      "cell_type": "code",
      "metadata": {
        "colab": {
          "base_uri": "https://localhost:8080/",
          "height": 206
        },
        "id": "28ypUkfM4b9T",
        "outputId": "9e8dfdcf-6ff8-4234-bc2b-2172689d927c"
      },
      "source": [
        "wa_g.head()"
      ],
      "execution_count": 127,
      "outputs": [
        {
          "output_type": "execute_result",
          "data": {
            "text/html": [
              "<div>\n",
              "<style scoped>\n",
              "    .dataframe tbody tr th:only-of-type {\n",
              "        vertical-align: middle;\n",
              "    }\n",
              "\n",
              "    .dataframe tbody tr th {\n",
              "        vertical-align: top;\n",
              "    }\n",
              "\n",
              "    .dataframe thead th {\n",
              "        text-align: right;\n",
              "    }\n",
              "</style>\n",
              "<table border=\"1\" class=\"dataframe\">\n",
              "  <thead>\n",
              "    <tr style=\"text-align: right;\">\n",
              "      <th></th>\n",
              "      <th>Entity</th>\n",
              "      <th>Code</th>\n",
              "      <th>Year</th>\n",
              "      <th>Waste per person(kg/day)</th>\n",
              "      <th>GDP per capita in PPP</th>\n",
              "      <th>Total Population</th>\n",
              "      <th>Continent</th>\n",
              "    </tr>\n",
              "  </thead>\n",
              "  <tbody>\n",
              "    <tr>\n",
              "      <th>0</th>\n",
              "      <td>Albania</td>\n",
              "      <td>ALB</td>\n",
              "      <td>2010</td>\n",
              "      <td>0.069</td>\n",
              "      <td>9927.181841</td>\n",
              "      <td>2948000.0</td>\n",
              "      <td>Europe</td>\n",
              "    </tr>\n",
              "    <tr>\n",
              "      <th>1</th>\n",
              "      <td>Algeria</td>\n",
              "      <td>DZA</td>\n",
              "      <td>2010</td>\n",
              "      <td>0.144</td>\n",
              "      <td>12870.602699</td>\n",
              "      <td>35977000.0</td>\n",
              "      <td>Africa</td>\n",
              "    </tr>\n",
              "    <tr>\n",
              "      <th>2</th>\n",
              "      <td>Angola</td>\n",
              "      <td>AGO</td>\n",
              "      <td>2010</td>\n",
              "      <td>0.062</td>\n",
              "      <td>5897.682841</td>\n",
              "      <td>23356000.0</td>\n",
              "      <td>Africa</td>\n",
              "    </tr>\n",
              "    <tr>\n",
              "      <th>3</th>\n",
              "      <td>Anguilla</td>\n",
              "      <td>AIA</td>\n",
              "      <td>2010</td>\n",
              "      <td>0.252</td>\n",
              "      <td>NaN</td>\n",
              "      <td>13000.0</td>\n",
              "      <td>North America</td>\n",
              "    </tr>\n",
              "    <tr>\n",
              "      <th>4</th>\n",
              "      <td>Antigua and Barbuda</td>\n",
              "      <td>ATG</td>\n",
              "      <td>2010</td>\n",
              "      <td>0.660</td>\n",
              "      <td>19212.720131</td>\n",
              "      <td>88000.0</td>\n",
              "      <td>North America</td>\n",
              "    </tr>\n",
              "  </tbody>\n",
              "</table>\n",
              "</div>"
            ],
            "text/plain": [
              "                Entity Code  ...  Total Population      Continent\n",
              "0              Albania  ALB  ...         2948000.0         Europe\n",
              "1              Algeria  DZA  ...        35977000.0         Africa\n",
              "2               Angola  AGO  ...        23356000.0         Africa\n",
              "3             Anguilla  AIA  ...           13000.0  North America\n",
              "4  Antigua and Barbuda  ATG  ...           88000.0  North America\n",
              "\n",
              "[5 rows x 7 columns]"
            ]
          },
          "metadata": {},
          "execution_count": 127
        }
      ]
    },
    {
      "cell_type": "markdown",
      "metadata": {
        "id": "amnhC0Ig4lgl"
      },
      "source": [
        "**Reading 2nd file**"
      ]
    },
    {
      "cell_type": "code",
      "metadata": {
        "id": "6Sys__dK4gCq"
      },
      "source": [
        "''' reading 2nd file '''\n",
        "df2 = pd.read_csv('per-capita-mismanaged-plastic-waste-vs-gdp-per-capita.csv')"
      ],
      "execution_count": 128,
      "outputs": []
    },
    {
      "cell_type": "code",
      "metadata": {
        "colab": {
          "base_uri": "https://localhost:8080/",
          "height": 223
        },
        "id": "D__ab3K54qNB",
        "outputId": "54481937-0232-4f47-d7a3-eb107b6382b4"
      },
      "source": [
        "df2.head()"
      ],
      "execution_count": 129,
      "outputs": [
        {
          "output_type": "execute_result",
          "data": {
            "text/html": [
              "<div>\n",
              "<style scoped>\n",
              "    .dataframe tbody tr th:only-of-type {\n",
              "        vertical-align: middle;\n",
              "    }\n",
              "\n",
              "    .dataframe tbody tr th {\n",
              "        vertical-align: top;\n",
              "    }\n",
              "\n",
              "    .dataframe thead th {\n",
              "        text-align: right;\n",
              "    }\n",
              "</style>\n",
              "<table border=\"1\" class=\"dataframe\">\n",
              "  <thead>\n",
              "    <tr style=\"text-align: right;\">\n",
              "      <th></th>\n",
              "      <th>Entity</th>\n",
              "      <th>Code</th>\n",
              "      <th>Year</th>\n",
              "      <th>Per capita mismanaged plastic waste</th>\n",
              "      <th>GDP per capita, PPP (constant 2011 international $)</th>\n",
              "      <th>Total population (Gapminder, HYDE &amp; UN)</th>\n",
              "      <th>Continent</th>\n",
              "    </tr>\n",
              "  </thead>\n",
              "  <tbody>\n",
              "    <tr>\n",
              "      <th>0</th>\n",
              "      <td>Abkhazia</td>\n",
              "      <td>OWID_ABK</td>\n",
              "      <td>2015</td>\n",
              "      <td>NaN</td>\n",
              "      <td>NaN</td>\n",
              "      <td>NaN</td>\n",
              "      <td>Asia</td>\n",
              "    </tr>\n",
              "    <tr>\n",
              "      <th>1</th>\n",
              "      <td>Afghanistan</td>\n",
              "      <td>AFG</td>\n",
              "      <td>2002</td>\n",
              "      <td>NaN</td>\n",
              "      <td>1063.635574</td>\n",
              "      <td>22601000.0</td>\n",
              "      <td>NaN</td>\n",
              "    </tr>\n",
              "    <tr>\n",
              "      <th>2</th>\n",
              "      <td>Afghanistan</td>\n",
              "      <td>AFG</td>\n",
              "      <td>2003</td>\n",
              "      <td>NaN</td>\n",
              "      <td>1099.194507</td>\n",
              "      <td>23681000.0</td>\n",
              "      <td>NaN</td>\n",
              "    </tr>\n",
              "    <tr>\n",
              "      <th>3</th>\n",
              "      <td>Afghanistan</td>\n",
              "      <td>AFG</td>\n",
              "      <td>2004</td>\n",
              "      <td>NaN</td>\n",
              "      <td>1062.249360</td>\n",
              "      <td>24727000.0</td>\n",
              "      <td>NaN</td>\n",
              "    </tr>\n",
              "    <tr>\n",
              "      <th>4</th>\n",
              "      <td>Afghanistan</td>\n",
              "      <td>AFG</td>\n",
              "      <td>2005</td>\n",
              "      <td>NaN</td>\n",
              "      <td>1136.123214</td>\n",
              "      <td>25654000.0</td>\n",
              "      <td>NaN</td>\n",
              "    </tr>\n",
              "  </tbody>\n",
              "</table>\n",
              "</div>"
            ],
            "text/plain": [
              "        Entity      Code  ...  Total population (Gapminder, HYDE & UN)  Continent\n",
              "0     Abkhazia  OWID_ABK  ...                                      NaN       Asia\n",
              "1  Afghanistan       AFG  ...                               22601000.0        NaN\n",
              "2  Afghanistan       AFG  ...                               23681000.0        NaN\n",
              "3  Afghanistan       AFG  ...                               24727000.0        NaN\n",
              "4  Afghanistan       AFG  ...                               25654000.0        NaN\n",
              "\n",
              "[5 rows x 7 columns]"
            ]
          },
          "metadata": {},
          "execution_count": 129
        }
      ]
    },
    {
      "cell_type": "code",
      "metadata": {
        "id": "UmnHL7dB4w0T"
      },
      "source": [
        "''' renaming columns'''\n",
        "df2.rename(columns={'Per capita mismanaged plastic waste': 'Mismanaged waste per person(kg/day)',\n",
        "                  'GDP per capita, PPP (constant 2011 international $)': 'GDP per capita in PPP',\n",
        "                  'Total population (Gapminder, HYDE & UN)': 'Total Population'}, inplace=True)"
      ],
      "execution_count": 130,
      "outputs": []
    },
    {
      "cell_type": "code",
      "metadata": {
        "id": "OV-wBbsu4yKP"
      },
      "source": [
        "''' dropping Continent column '''\n",
        "df2.drop('Continent', axis=1, inplace=True)"
      ],
      "execution_count": 131,
      "outputs": []
    },
    {
      "cell_type": "code",
      "metadata": {
        "colab": {
          "base_uri": "https://localhost:8080/",
          "height": 206
        },
        "id": "iOJM73W4411c",
        "outputId": "d44a112b-dc59-4186-efb1-ff7f7ba35015"
      },
      "source": [
        "'''retrieving rows in which year == 2010'''\n",
        "df2_2010 = df2[df2.Year == 2010]\n",
        "df2_2010.head()"
      ],
      "execution_count": 132,
      "outputs": [
        {
          "output_type": "execute_result",
          "data": {
            "text/html": [
              "<div>\n",
              "<style scoped>\n",
              "    .dataframe tbody tr th:only-of-type {\n",
              "        vertical-align: middle;\n",
              "    }\n",
              "\n",
              "    .dataframe tbody tr th {\n",
              "        vertical-align: top;\n",
              "    }\n",
              "\n",
              "    .dataframe thead th {\n",
              "        text-align: right;\n",
              "    }\n",
              "</style>\n",
              "<table border=\"1\" class=\"dataframe\">\n",
              "  <thead>\n",
              "    <tr style=\"text-align: right;\">\n",
              "      <th></th>\n",
              "      <th>Entity</th>\n",
              "      <th>Code</th>\n",
              "      <th>Year</th>\n",
              "      <th>Mismanaged waste per person(kg/day)</th>\n",
              "      <th>GDP per capita in PPP</th>\n",
              "      <th>Total Population</th>\n",
              "    </tr>\n",
              "  </thead>\n",
              "  <tbody>\n",
              "    <tr>\n",
              "      <th>9</th>\n",
              "      <td>Afghanistan</td>\n",
              "      <td>AFG</td>\n",
              "      <td>2010</td>\n",
              "      <td>NaN</td>\n",
              "      <td>1614.255001</td>\n",
              "      <td>2.918600e+07</td>\n",
              "    </tr>\n",
              "    <tr>\n",
              "      <th>333</th>\n",
              "      <td>Africa</td>\n",
              "      <td>NaN</td>\n",
              "      <td>2010</td>\n",
              "      <td>NaN</td>\n",
              "      <td>NaN</td>\n",
              "      <td>1.039304e+09</td>\n",
              "    </tr>\n",
              "    <tr>\n",
              "      <th>344</th>\n",
              "      <td>Albania</td>\n",
              "      <td>ALB</td>\n",
              "      <td>2010</td>\n",
              "      <td>0.032</td>\n",
              "      <td>9927.181841</td>\n",
              "      <td>2.948000e+06</td>\n",
              "    </tr>\n",
              "    <tr>\n",
              "      <th>564</th>\n",
              "      <td>Algeria</td>\n",
              "      <td>DZA</td>\n",
              "      <td>2010</td>\n",
              "      <td>0.086</td>\n",
              "      <td>12870.602699</td>\n",
              "      <td>3.597700e+07</td>\n",
              "    </tr>\n",
              "    <tr>\n",
              "      <th>844</th>\n",
              "      <td>American Samoa</td>\n",
              "      <td>ASM</td>\n",
              "      <td>2010</td>\n",
              "      <td>NaN</td>\n",
              "      <td>NaN</td>\n",
              "      <td>5.600000e+04</td>\n",
              "    </tr>\n",
              "  </tbody>\n",
              "</table>\n",
              "</div>"
            ],
            "text/plain": [
              "             Entity Code  ...  GDP per capita in PPP  Total Population\n",
              "9       Afghanistan  AFG  ...            1614.255001      2.918600e+07\n",
              "333          Africa  NaN  ...                    NaN      1.039304e+09\n",
              "344         Albania  ALB  ...            9927.181841      2.948000e+06\n",
              "564         Algeria  DZA  ...           12870.602699      3.597700e+07\n",
              "844  American Samoa  ASM  ...                    NaN      5.600000e+04\n",
              "\n",
              "[5 rows x 6 columns]"
            ]
          },
          "metadata": {},
          "execution_count": 132
        }
      ]
    },
    {
      "cell_type": "code",
      "metadata": {
        "id": "OEZBjVDT44s9"
      },
      "source": [
        "''' dropping rows with missing mismanaged waste values '''\n",
        "df2_2010 = df2_2010[df2_2010['Mismanaged waste per person(kg/day)'].isna() != True]\n",
        "\n",
        "''' reset index '''\n",
        "w_m = df2_2010.reset_index().drop('index', axis=1)"
      ],
      "execution_count": 133,
      "outputs": []
    },
    {
      "cell_type": "code",
      "metadata": {
        "colab": {
          "base_uri": "https://localhost:8080/",
          "height": 206
        },
        "id": "N-Yq-g4U5ADb",
        "outputId": "b98f476f-677d-437f-a3b9-079998c2588c"
      },
      "source": [
        "w_m.head()"
      ],
      "execution_count": 134,
      "outputs": [
        {
          "output_type": "execute_result",
          "data": {
            "text/html": [
              "<div>\n",
              "<style scoped>\n",
              "    .dataframe tbody tr th:only-of-type {\n",
              "        vertical-align: middle;\n",
              "    }\n",
              "\n",
              "    .dataframe tbody tr th {\n",
              "        vertical-align: top;\n",
              "    }\n",
              "\n",
              "    .dataframe thead th {\n",
              "        text-align: right;\n",
              "    }\n",
              "</style>\n",
              "<table border=\"1\" class=\"dataframe\">\n",
              "  <thead>\n",
              "    <tr style=\"text-align: right;\">\n",
              "      <th></th>\n",
              "      <th>Entity</th>\n",
              "      <th>Code</th>\n",
              "      <th>Year</th>\n",
              "      <th>Mismanaged waste per person(kg/day)</th>\n",
              "      <th>GDP per capita in PPP</th>\n",
              "      <th>Total Population</th>\n",
              "    </tr>\n",
              "  </thead>\n",
              "  <tbody>\n",
              "    <tr>\n",
              "      <th>0</th>\n",
              "      <td>Albania</td>\n",
              "      <td>ALB</td>\n",
              "      <td>2010</td>\n",
              "      <td>0.032</td>\n",
              "      <td>9927.181841</td>\n",
              "      <td>2948000.0</td>\n",
              "    </tr>\n",
              "    <tr>\n",
              "      <th>1</th>\n",
              "      <td>Algeria</td>\n",
              "      <td>DZA</td>\n",
              "      <td>2010</td>\n",
              "      <td>0.086</td>\n",
              "      <td>12870.602699</td>\n",
              "      <td>35977000.0</td>\n",
              "    </tr>\n",
              "    <tr>\n",
              "      <th>2</th>\n",
              "      <td>Angola</td>\n",
              "      <td>AGO</td>\n",
              "      <td>2010</td>\n",
              "      <td>0.045</td>\n",
              "      <td>5897.682841</td>\n",
              "      <td>23356000.0</td>\n",
              "    </tr>\n",
              "    <tr>\n",
              "      <th>3</th>\n",
              "      <td>Anguilla</td>\n",
              "      <td>AIA</td>\n",
              "      <td>2010</td>\n",
              "      <td>0.010</td>\n",
              "      <td>NaN</td>\n",
              "      <td>13000.0</td>\n",
              "    </tr>\n",
              "    <tr>\n",
              "      <th>4</th>\n",
              "      <td>Antigua and Barbuda</td>\n",
              "      <td>ATG</td>\n",
              "      <td>2010</td>\n",
              "      <td>0.051</td>\n",
              "      <td>19212.720131</td>\n",
              "      <td>88000.0</td>\n",
              "    </tr>\n",
              "  </tbody>\n",
              "</table>\n",
              "</div>"
            ],
            "text/plain": [
              "                Entity Code  ...  GDP per capita in PPP  Total Population\n",
              "0              Albania  ALB  ...            9927.181841         2948000.0\n",
              "1              Algeria  DZA  ...           12870.602699        35977000.0\n",
              "2               Angola  AGO  ...            5897.682841        23356000.0\n",
              "3             Anguilla  AIA  ...                    NaN           13000.0\n",
              "4  Antigua and Barbuda  ATG  ...           19212.720131           88000.0\n",
              "\n",
              "[5 rows x 6 columns]"
            ]
          },
          "metadata": {},
          "execution_count": 134
        }
      ]
    },
    {
      "cell_type": "markdown",
      "metadata": {
        "id": "tFRTSxQ05Njt"
      },
      "source": [
        "**'' merging w_m and wa_g '''**"
      ]
    },
    {
      "cell_type": "code",
      "metadata": {
        "id": "M28EyRTA5Erf"
      },
      "source": [
        "\n",
        "df_plastic_waste = pd.merge(wa_g, w_m, how='inner')"
      ],
      "execution_count": 135,
      "outputs": []
    },
    {
      "cell_type": "code",
      "metadata": {
        "colab": {
          "base_uri": "https://localhost:8080/",
          "height": 206
        },
        "id": "6TiYsZCD5P2m",
        "outputId": "be4e8ab0-6740-4414-e573-c8d04f838856"
      },
      "source": [
        "''' displaying data '''\n",
        "df_plastic_waste.head()"
      ],
      "execution_count": 136,
      "outputs": [
        {
          "output_type": "execute_result",
          "data": {
            "text/html": [
              "<div>\n",
              "<style scoped>\n",
              "    .dataframe tbody tr th:only-of-type {\n",
              "        vertical-align: middle;\n",
              "    }\n",
              "\n",
              "    .dataframe tbody tr th {\n",
              "        vertical-align: top;\n",
              "    }\n",
              "\n",
              "    .dataframe thead th {\n",
              "        text-align: right;\n",
              "    }\n",
              "</style>\n",
              "<table border=\"1\" class=\"dataframe\">\n",
              "  <thead>\n",
              "    <tr style=\"text-align: right;\">\n",
              "      <th></th>\n",
              "      <th>Entity</th>\n",
              "      <th>Code</th>\n",
              "      <th>Year</th>\n",
              "      <th>Waste per person(kg/day)</th>\n",
              "      <th>GDP per capita in PPP</th>\n",
              "      <th>Total Population</th>\n",
              "      <th>Continent</th>\n",
              "      <th>Mismanaged waste per person(kg/day)</th>\n",
              "    </tr>\n",
              "  </thead>\n",
              "  <tbody>\n",
              "    <tr>\n",
              "      <th>0</th>\n",
              "      <td>Albania</td>\n",
              "      <td>ALB</td>\n",
              "      <td>2010</td>\n",
              "      <td>0.069</td>\n",
              "      <td>9927.181841</td>\n",
              "      <td>2948000.0</td>\n",
              "      <td>Europe</td>\n",
              "      <td>0.032</td>\n",
              "    </tr>\n",
              "    <tr>\n",
              "      <th>1</th>\n",
              "      <td>Algeria</td>\n",
              "      <td>DZA</td>\n",
              "      <td>2010</td>\n",
              "      <td>0.144</td>\n",
              "      <td>12870.602699</td>\n",
              "      <td>35977000.0</td>\n",
              "      <td>Africa</td>\n",
              "      <td>0.086</td>\n",
              "    </tr>\n",
              "    <tr>\n",
              "      <th>2</th>\n",
              "      <td>Angola</td>\n",
              "      <td>AGO</td>\n",
              "      <td>2010</td>\n",
              "      <td>0.062</td>\n",
              "      <td>5897.682841</td>\n",
              "      <td>23356000.0</td>\n",
              "      <td>Africa</td>\n",
              "      <td>0.045</td>\n",
              "    </tr>\n",
              "    <tr>\n",
              "      <th>3</th>\n",
              "      <td>Anguilla</td>\n",
              "      <td>AIA</td>\n",
              "      <td>2010</td>\n",
              "      <td>0.252</td>\n",
              "      <td>NaN</td>\n",
              "      <td>13000.0</td>\n",
              "      <td>North America</td>\n",
              "      <td>0.010</td>\n",
              "    </tr>\n",
              "    <tr>\n",
              "      <th>4</th>\n",
              "      <td>Antigua and Barbuda</td>\n",
              "      <td>ATG</td>\n",
              "      <td>2010</td>\n",
              "      <td>0.660</td>\n",
              "      <td>19212.720131</td>\n",
              "      <td>88000.0</td>\n",
              "      <td>North America</td>\n",
              "      <td>0.051</td>\n",
              "    </tr>\n",
              "  </tbody>\n",
              "</table>\n",
              "</div>"
            ],
            "text/plain": [
              "                Entity Code  ...      Continent  Mismanaged waste per person(kg/day)\n",
              "0              Albania  ALB  ...         Europe                                0.032\n",
              "1              Algeria  DZA  ...         Africa                                0.086\n",
              "2               Angola  AGO  ...         Africa                                0.045\n",
              "3             Anguilla  AIA  ...  North America                                0.010\n",
              "4  Antigua and Barbuda  ATG  ...  North America                                0.051\n",
              "\n",
              "[5 rows x 8 columns]"
            ]
          },
          "metadata": {},
          "execution_count": 136
        }
      ]
    },
    {
      "cell_type": "code",
      "metadata": {
        "id": "_2qEtxB65TuK"
      },
      "source": [
        "''' converting column names into list '''\n",
        "df_plastic_waste.columns.tolist()\n",
        "\n",
        "''' column names '''\n",
        "col_names = ['Entity','Code','Year','Waste per person(kg/day)','Mismanaged waste per person(kg/day)',\n",
        "           'GDP per capita in PPP','Total Population','Continent']\n",
        "\n",
        "df_plastic_waste = df_plastic_waste[col_names]\n",
        "\n",
        "'''rounding the values per person'''\n",
        "df_plastic_waste.iloc[:, 3:5] = np.around(df_plastic_waste[['Waste per person(kg/day)', \n",
        "                                                            'Mismanaged waste per person(kg/day)']], decimals=2)\n",
        "\n",
        "''' changing data type '''\n",
        "df_plastic_waste['Total Population'] = df_plastic_waste['Total Population'].astype(int)"
      ],
      "execution_count": 137,
      "outputs": []
    },
    {
      "cell_type": "code",
      "metadata": {
        "id": "bC2fs2LM5aHm"
      },
      "source": [
        "'''Generating Total waste and Total mismanaged waste by country'''\n",
        "df_plastic_waste['Total waste(kgs/year)'] = ((df_plastic_waste['Waste per person(kg/day)'] * \n",
        "                                    df_plastic_waste['Total Population']) * 365)\n",
        "df_plastic_waste['Total waste mismanaged(kgs/year)'] = ((df_plastic_waste['Mismanaged waste per person(kg/day)'] * \n",
        "                                    df_plastic_waste['Total Population']) * 365)"
      ],
      "execution_count": 138,
      "outputs": []
    },
    {
      "cell_type": "code",
      "metadata": {
        "colab": {
          "base_uri": "https://localhost:8080/",
          "height": 275
        },
        "id": "JqdUlKds5dGo",
        "outputId": "0660e870-7c6d-4976-be38-ee994ba12933"
      },
      "source": [
        "df_plastic_waste.head()"
      ],
      "execution_count": 139,
      "outputs": [
        {
          "output_type": "execute_result",
          "data": {
            "text/html": [
              "<div>\n",
              "<style scoped>\n",
              "    .dataframe tbody tr th:only-of-type {\n",
              "        vertical-align: middle;\n",
              "    }\n",
              "\n",
              "    .dataframe tbody tr th {\n",
              "        vertical-align: top;\n",
              "    }\n",
              "\n",
              "    .dataframe thead th {\n",
              "        text-align: right;\n",
              "    }\n",
              "</style>\n",
              "<table border=\"1\" class=\"dataframe\">\n",
              "  <thead>\n",
              "    <tr style=\"text-align: right;\">\n",
              "      <th></th>\n",
              "      <th>Entity</th>\n",
              "      <th>Code</th>\n",
              "      <th>Year</th>\n",
              "      <th>Waste per person(kg/day)</th>\n",
              "      <th>Mismanaged waste per person(kg/day)</th>\n",
              "      <th>GDP per capita in PPP</th>\n",
              "      <th>Total Population</th>\n",
              "      <th>Continent</th>\n",
              "      <th>Total waste(kgs/year)</th>\n",
              "      <th>Total waste mismanaged(kgs/year)</th>\n",
              "    </tr>\n",
              "  </thead>\n",
              "  <tbody>\n",
              "    <tr>\n",
              "      <th>0</th>\n",
              "      <td>Albania</td>\n",
              "      <td>ALB</td>\n",
              "      <td>2010</td>\n",
              "      <td>0.07</td>\n",
              "      <td>0.03</td>\n",
              "      <td>9927.181841</td>\n",
              "      <td>2948000</td>\n",
              "      <td>Europe</td>\n",
              "      <td>7.532140e+07</td>\n",
              "      <td>3.228060e+07</td>\n",
              "    </tr>\n",
              "    <tr>\n",
              "      <th>1</th>\n",
              "      <td>Algeria</td>\n",
              "      <td>DZA</td>\n",
              "      <td>2010</td>\n",
              "      <td>0.14</td>\n",
              "      <td>0.09</td>\n",
              "      <td>12870.602699</td>\n",
              "      <td>35977000</td>\n",
              "      <td>Africa</td>\n",
              "      <td>1.838425e+09</td>\n",
              "      <td>1.181844e+09</td>\n",
              "    </tr>\n",
              "    <tr>\n",
              "      <th>2</th>\n",
              "      <td>Angola</td>\n",
              "      <td>AGO</td>\n",
              "      <td>2010</td>\n",
              "      <td>0.06</td>\n",
              "      <td>0.04</td>\n",
              "      <td>5897.682841</td>\n",
              "      <td>23356000</td>\n",
              "      <td>Africa</td>\n",
              "      <td>5.114964e+08</td>\n",
              "      <td>3.409976e+08</td>\n",
              "    </tr>\n",
              "    <tr>\n",
              "      <th>3</th>\n",
              "      <td>Anguilla</td>\n",
              "      <td>AIA</td>\n",
              "      <td>2010</td>\n",
              "      <td>0.25</td>\n",
              "      <td>0.01</td>\n",
              "      <td>NaN</td>\n",
              "      <td>13000</td>\n",
              "      <td>North America</td>\n",
              "      <td>1.186250e+06</td>\n",
              "      <td>4.745000e+04</td>\n",
              "    </tr>\n",
              "    <tr>\n",
              "      <th>4</th>\n",
              "      <td>Antigua and Barbuda</td>\n",
              "      <td>ATG</td>\n",
              "      <td>2010</td>\n",
              "      <td>0.66</td>\n",
              "      <td>0.05</td>\n",
              "      <td>19212.720131</td>\n",
              "      <td>88000</td>\n",
              "      <td>North America</td>\n",
              "      <td>2.119920e+07</td>\n",
              "      <td>1.606000e+06</td>\n",
              "    </tr>\n",
              "  </tbody>\n",
              "</table>\n",
              "</div>"
            ],
            "text/plain": [
              "                Entity  ... Total waste mismanaged(kgs/year)\n",
              "0              Albania  ...                     3.228060e+07\n",
              "1              Algeria  ...                     1.181844e+09\n",
              "2               Angola  ...                     3.409976e+08\n",
              "3             Anguilla  ...                     4.745000e+04\n",
              "4  Antigua and Barbuda  ...                     1.606000e+06\n",
              "\n",
              "[5 rows x 10 columns]"
            ]
          },
          "metadata": {},
          "execution_count": 139
        }
      ]
    },
    {
      "cell_type": "code",
      "metadata": {
        "colab": {
          "base_uri": "https://localhost:8080/",
          "height": 518
        },
        "id": "5L5hMoag5hcI",
        "outputId": "d9aa5a18-d066-4ce2-b48f-0b314199920e"
      },
      "source": [
        "''' scatter plot graph '''\n",
        "\n",
        "plt.figure(1, figsize=(12,8))\n",
        "plt.scatter(df_plastic_waste['GDP per capita in PPP'], df_plastic_waste['Mismanaged waste per person(kg/day)'])\n",
        "plt.title('Waste Mismanaged', fontsize=15)\n",
        "plt.ylabel('Mismanaged waste',fontsize=15)\n",
        "plt.xlabel('GDP per capita', fontsize=12)\n",
        "\n",
        "sns.regplot(x='GDP per capita in PPP', y='Mismanaged waste per person(kg/day)', data=df_plastic_waste,\n",
        "           scatter_kws={'color': '#34568B'}, line_kws={'color': '#650021'})\n",
        "\n",
        "plt.show()"
      ],
      "execution_count": 140,
      "outputs": [
        {
          "output_type": "display_data",
          "data": {
            "image/png": "[encoded data removed]",
            "text/plain": [
              "<Figure size 864x576 with 1 Axes>"
            ]
          },
          "metadata": {}
        }
      ]
    },
    {
      "cell_type": "code",
      "metadata": {
        "colab": {
          "base_uri": "https://localhost:8080/",
          "height": 517
        },
        "id": "1NLx2ard5lnf",
        "outputId": "115c1d82-485e-47aa-8e1c-e6e5f08872d9"
      },
      "source": [
        "''' scatter plot '''\n",
        "\n",
        "plt.figure(2, figsize=(12,8))\n",
        "plt.scatter(df_plastic_waste['GDP per capita in PPP'], df_plastic_waste['Waste per person(kg/day)'])\n",
        "plt.title('Waste Generated by GDP',fontsize=14)\n",
        "plt.ylabel('Waste per person(kg/day', fontsize=12)\n",
        "plt.xlabel('GDP per capita in PPP', fontsize=12)\n",
        "\n",
        "sns.regplot(x=df_plastic_waste['GDP per capita in PPP'], y=df_plastic_waste['Waste per person(kg/day)'],\n",
        "           scatter_kws={'color': '#CD212A'}, line_kws={'color': '#380282'})\n",
        "\n",
        "plt.show()"
      ],
      "execution_count": 108,
      "outputs": [
        {
          "output_type": "display_data",
          "data": {
            "image/png": "[encoded data removed]",
            "text/plain": [
              "<Figure size 864x576 with 1 Axes>"
            ]
          },
          "metadata": {}
        }
      ]
    },
    {
      "cell_type": "code",
      "metadata": {
        "id": "_7cU8IUT66vY"
      },
      "source": [
        ""
      ],
      "execution_count": 108,
      "outputs": []
    }
  ]
}